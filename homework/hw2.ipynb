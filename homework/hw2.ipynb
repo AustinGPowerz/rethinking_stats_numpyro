{
 "cells": [
  {
   "cell_type": "code",
   "execution_count": 2,
   "id": "36e22103",
   "metadata": {},
   "outputs": [
    {
     "name": "stderr",
     "output_type": "stream",
     "text": [
      "c:\\Users\\mcemc\\OneDrive\\Documents\\rethinking_stats_numpyro\\.venv\\Lib\\site-packages\\tqdm\\auto.py:21: TqdmWarning: IProgress not found. Please update jupyter and ipywidgets. See https://ipywidgets.readthedocs.io/en/stable/user_install.html\n",
      "  from .autonotebook import tqdm as notebook_tqdm\n"
     ]
    }
   ],
   "source": [
    "import os\n",
    "import warnings\n",
    "\n",
    "import arviz as az\n",
    "import matplotlib.pyplot as plt\n",
    "import pandas as pd\n",
    "from scipy.interpolate import BSpline\n",
    "from scipy.stats import gaussian_kde\n",
    "\n",
    "import jax.numpy as jnp\n",
    "from jax import random, vmap\n",
    "\n",
    "import numpyro\n",
    "import numpyro.distributions as dist\n",
    "import numpyro.optim as optim\n",
    "from numpyro.diagnostics import hpdi, print_summary\n",
    "from numpyro.infer import Predictive, SVI, Trace_ELBO, init_to_value\n",
    "from numpyro.infer.autoguide import AutoLaplaceApproximation\n",
    "\n",
    "if \"SVG\" in os.environ:\n",
    "    %config InlineBackend.figure_formats = [\"svg\"]\n",
    "warnings.formatwarning = lambda message, category, *args, **kwargs: \"{}: {}\\n\".format(\n",
    "    category.__name__, message\n",
    ")\n",
    "az.style.use(\"arviz-darkgrid\")\n",
    "numpyro.set_platform(\"cpu\")"
   ]
  },
  {
   "cell_type": "code",
   "execution_count": 3,
   "id": "e7277c7f",
   "metadata": {},
   "outputs": [],
   "source": [
    "howell = pd.read_csv(\"../data/Howell1.csv\", sep=\";\")\n",
    "howell = howell[howell[\"age\"] < 13]"
   ]
  },
  {
   "cell_type": "markdown",
   "id": "8cdf126e",
   "metadata": {},
   "source": [
    "# Write "
   ]
  },
  {
   "cell_type": "code",
   "execution_count": null,
   "id": "e803ed11",
   "metadata": {},
   "outputs": [],
   "source": [
    "# Height is some function of age, or H = f(A) + U\n",
    "# H = bA + U\n",
    "\n",
    "# A ~ Uniform(0,13)\n",
    "# U ~ Normal(mu, sigma)"
   ]
  },
  {
   "cell_type": "markdown",
   "id": "d4326703",
   "metadata": {},
   "source": [
    "Priors\n",
    "\n",
    "Pr(mu,sigma)\n",
    "\n",
    "Pr(mu,sigma | A, H, W) The posterior conditional probability that we aim to calculate\n",
    "\n",
    "Pr(A, H, W | mu, sigma) This is the likelihood of data given observed parameters\n",
    "\n",
    "H ~ Normal(mu,sigma)\n",
    "\n",
    "mu ~ Normal(mu, sigma) This is a prior\n",
    "\n",
    "sigma ~ Uniform(min,max) This is a prior. Out intuition tells us that sigma can only be positive, so we can constrain it to (0,max).\n",
    "\n"
   ]
  },
  {
   "cell_type": "markdown",
   "id": "60feda32",
   "metadata": {},
   "source": [
    "Generative simulation"
   ]
  },
  {
   "cell_type": "markdown",
   "id": "271c3b49",
   "metadata": {},
   "source": [
    "Height is distributed normally with a mean that is a linear function of age."
   ]
  },
  {
   "cell_type": "code",
   "execution_count": null,
   "id": "3b856196",
   "metadata": {},
   "outputs": [],
   "source": [
    "U = dist.Normal(mu, sigma).sample(random.PRNGKey(0), (len(howell), 1))\n",
    "A = dist.Uniform(0, 0.1).sample(random.PRNGKey(0), (len(howell), 1))\n",
    "H = \n",
    "W = \n",
    "\n",
    "H = b*A + U"
   ]
  },
  {
   "cell_type": "markdown",
   "id": "6a976b58",
   "metadata": {},
   "source": [
    "Instantiate priors"
   ]
  },
  {
   "cell_type": "code",
   "execution_count": 18,
   "id": "5fa0a91d",
   "metadata": {},
   "outputs": [],
   "source": [
    "\n",
    "def flist(height):\n",
    "    mu = numpyro.sample(\"mu\", dist.Normal(50, 50))\n",
    "    sigma = numpyro.sample(\"sigma\", dist.Uniform(0, 50))\n",
    "    numpyro.sample(\"height\", dist.Normal(mu, sigma), obs=height)"
   ]
  },
  {
   "cell_type": "markdown",
   "id": "77e6efac",
   "metadata": {},
   "source": [
    "Fit the model to the data"
   ]
  },
  {
   "cell_type": "code",
   "execution_count": 19,
   "id": "f601c882",
   "metadata": {},
   "outputs": [
    {
     "name": "stderr",
     "output_type": "stream",
     "text": [
      "100%|██████████| 2000/2000 [00:00<00:00, 3786.82it/s, init loss: 1165.2047, avg. loss [1901-2000]: 661.2421]\n"
     ]
    }
   ],
   "source": [
    "m4_1 = AutoLaplaceApproximation(flist)\n",
    "svi = SVI(flist, m4_1, optim.Adam(1), Trace_ELBO(), height=howell.height.values)\n",
    "svi_result = svi.run(random.PRNGKey(0), 2000)\n",
    "p4_1 = svi_result.params"
   ]
  },
  {
   "cell_type": "code",
   "execution_count": 20,
   "id": "f9d2a7ef",
   "metadata": {},
   "outputs": [
    {
     "name": "stdout",
     "output_type": "stream",
     "text": [
      "\n",
      "                mean       std    median      5.5%     94.5%     n_eff     r_hat\n",
      "        mu     98.76      1.77     98.79     96.00    101.55    792.24      1.00\n",
      "     sigma     21.38      1.25     21.38     19.40     23.30   1007.22      1.00\n",
      "\n"
     ]
    }
   ],
   "source": [
    "samples = m4_1.sample_posterior(random.PRNGKey(1), p4_1, sample_shape=(1000,))\n",
    "print_summary(samples, 0.89, False)"
   ]
  },
  {
   "cell_type": "markdown",
   "id": "30231b75",
   "metadata": {},
   "source": [
    "Display variance-covariance matrix that describes the multi-dimensional Gaussian distribution of Mu and Sigma.\n",
    "This matrix tells us how each parameter relates to each other in the posterior distribution."
   ]
  },
  {
   "cell_type": "code",
   "execution_count": 21,
   "id": "53d301c0",
   "metadata": {},
   "outputs": [
    {
     "data": {
      "text/plain": [
       "Array([[ 3.1172564, -0.0135641],\n",
       "       [-0.0135641,  1.5594983]], dtype=float32)"
      ]
     },
     "execution_count": 21,
     "metadata": {},
     "output_type": "execute_result"
    }
   ],
   "source": [
    "samples = m4_1.sample_posterior(random.PRNGKey(1), p4_1, sample_shape=(1000,))\n",
    "vcov = jnp.cov(jnp.stack(list(samples.values()), axis=0))\n",
    "vcov"
   ]
  },
  {
   "cell_type": "code",
   "execution_count": 22,
   "id": "2705624a",
   "metadata": {},
   "outputs": [
    {
     "name": "stdout",
     "output_type": "stream",
     "text": [
      "[3.1172564 1.5594983]\n",
      "[[ 1.         -0.00615194]\n",
      " [-0.00615194  1.        ]]\n"
     ]
    }
   ],
   "source": [
    "print(jnp.diagonal(vcov))\n",
    "print(vcov / jnp.sqrt(jnp.outer(jnp.diagonal(vcov), jnp.diagonal(vcov))))"
   ]
  },
  {
   "cell_type": "markdown",
   "id": "b95fe1c2",
   "metadata": {},
   "source": [
    "## Actual homework problem"
   ]
  },
  {
   "cell_type": "code",
   "execution_count": 11,
   "id": "cc59f151",
   "metadata": {},
   "outputs": [
    {
     "data": {
      "image/png": "[encoded data removed]",
      "text/plain": [
       "<Figure size 720x480 with 1 Axes>"
      ]
     },
     "metadata": {},
     "output_type": "display_data"
    }
   ],
   "source": [
    "from PIL import Image\n",
    "img = jnp.asarray(Image.open('DAG_age_height_weight.png'))\n",
    "imgplot = plt.imshow(img)"
   ]
  },
  {
   "cell_type": "markdown",
   "id": "d1ff5470",
   "metadata": {},
   "source": [
    "Okay, so because we have multiple variables, and one variable with direct and indirect effects on the outcome variable, so we want to use a spline to create the model."
   ]
  },
  {
   "cell_type": "code",
   "execution_count": null,
   "id": "95cf6f8d",
   "metadata": {},
   "outputs": [],
   "source": [
    "xbar = howell.height.mean()\n",
    "\n",
    "def model(age, weight=None):    \n",
    "    a = numpyro.sample(\"a\", dist.Normal(178, 20))\n",
    "    b = numpyro.sample(\"log_b\", dist.LogNormal(0, 1))\n",
    "    sigma = numpyro.sample(\"sigma\", dist.Uniform(0, 50))\n",
    "    mu = numpyro.deterministic(\"mu\", a + b * (age - xbar))\n",
    "    numpyro.sample(\"weight\", dist.Normal(mu, sigma), obs=weight)\n",
    "\n",
    "\n",
    "Predictive(model, num_samples=100)(rng_key=random.PRNGKey(0),)\n",
    "m4_3b = AutoLaplaceApproximation(model)\n",
    "svi = SVI(\n",
    "    model,\n",
    "    m4_3b,\n",
    "    optim.Adam(1),\n",
    "    Trace_ELBO(),\n",
    "    weight=howell.weight.values,\n",
    "    height=howell.height.values,\n",
    ")\n",
    "svi_result = svi.run(random.PRNGKey(0), 2000)\n",
    "p4_3b = svi_result.params"
   ]
  },
  {
   "cell_type": "code",
   "execution_count": null,
   "id": "4bb128d5",
   "metadata": {},
   "outputs": [],
   "source": [
    "def model(age, weight=None):\n",
    "\n",
    "    \n",
    "    a = numpyro.sample(\"a\", dist.Normal(178, 20))\n",
    "    b = numpyro.sample(\"log_b\", dist.LogNormal(0, 1))\n",
    "    sigma = numpyro.sample(\"sigma\", dist.Uniform(0, 50))\n",
    "    mu = numpyro.deterministic(\"mu\", a + b * (age - xbar))\n",
    "\n",
    "\n",
    "    numpyro.sample(\"weight\", dist.Normal(mu, sigma), obs=weight)"
   ]
  }
 ],
 "metadata": {
  "kernelspec": {
   "display_name": ".venv",
   "language": "python",
   "name": "python3"
  },
  "language_info": {
   "codemirror_mode": {
    "name": "ipython",
    "version": 3
   },
   "file_extension": ".py",
   "mimetype": "text/x-python",
   "name": "python",
   "nbconvert_exporter": "python",
   "pygments_lexer": "ipython3",
   "version": "3.13.1"
  }
 },
 "nbformat": 4,
 "nbformat_minor": 5
}
